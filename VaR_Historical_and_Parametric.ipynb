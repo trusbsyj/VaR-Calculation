{
  "nbformat": 4,
  "nbformat_minor": 0,
  "metadata": {
    "colab": {
      "provenance": []
    },
    "kernelspec": {
      "name": "python3",
      "display_name": "Python 3"
    },
    "language_info": {
      "name": "python"
    }
  },
  "cells": [
    {
      "cell_type": "code",
      "execution_count": 4,
      "metadata": {
        "id": "zdTqDjKfx0RN"
      },
      "outputs": [],
      "source": [
        "#Value at Risk\n",
        "#Step -1 import libraries\n"
      ]
    },
    {
      "cell_type": "code",
      "source": [
        "import numpy as np\n",
        "import pandas as pd\n",
        "import matplotlib.pyplot as plt\n",
        "import seaborn as sns\n",
        "import datetime as dt\n",
        "import yfinance as yf\n",
        "from scipy.stats import norm\n"
      ],
      "metadata": {
        "id": "eBDphiGQya02"
      },
      "execution_count": 121,
      "outputs": []
    },
    {
      "cell_type": "code",
      "source": [
        "#Set time from to a certain number of years\n",
        "years=15\n",
        "endDate=dt.datetime.now()\n",
        "startDate=endDate-dt.timedelta(days=365*years)"
      ],
      "metadata": {
        "id": "UFu2Pfs5ydKx"
      },
      "execution_count": 120,
      "outputs": []
    },
    {
      "cell_type": "code",
      "source": [
        "#create  a list of tickers\n",
        "tickers=['SPY','BND','GLD','QQQ','VTI']\n"
      ],
      "metadata": {
        "id": "PiYlXASZx7__"
      },
      "execution_count": 122,
      "outputs": []
    },
    {
      "cell_type": "code",
      "source": [
        "# Download the daily adjusted close price for the tickers\n",
        "adj_close_df=pd.DataFrame()\n",
        "for ticker in tickers:\n",
        "    data=yf.download(ticker,start=startDate,end=endDate)\n",
        "    adj_close_df[ticker]=data['Adj Close']\n",
        "print(adj_close_df)"
      ],
      "metadata": {
        "colab": {
          "base_uri": "https://localhost:8080/",
          "height": 0
        },
        "id": "F8hiahwl0b4h",
        "outputId": "cd491481-a2d7-47a0-e0bd-2ed4718fd4d4"
      },
      "execution_count": 123,
      "outputs": [
        {
          "output_type": "stream",
          "name": "stderr",
          "text": [
            "[*********************100%***********************]  1 of 1 completed\n",
            "[*********************100%***********************]  1 of 1 completed\n",
            "[*********************100%***********************]  1 of 1 completed\n",
            "[*********************100%***********************]  1 of 1 completed\n",
            "[*********************100%***********************]  1 of 1 completed"
          ]
        },
        {
          "output_type": "stream",
          "name": "stdout",
          "text": [
            "                   SPY        BND         GLD         QQQ         VTI\n",
            "Date                                                                 \n",
            "2010-01-04   86.026482  51.246948  109.800003   40.546177   43.747631\n",
            "2010-01-05   86.254173  51.396748  109.699997   40.546177   43.915581\n",
            "2010-01-06   86.314903  51.377171  111.510002   40.301620   43.976639\n",
            "2010-01-07   86.679237  51.338112  110.820000   40.327827   44.159828\n",
            "2010-01-08   86.967728  51.390244  111.370003   40.659752   44.304890\n",
            "...                ...        ...         ...         ...         ...\n",
            "2024-12-23  594.690002  71.747002  240.960007  522.869995  294.000000\n",
            "2024-12-24  601.299988  71.849998  241.440002  529.960022  297.119995\n",
            "2024-12-26  601.340027  71.900002  243.070007  529.599976  297.290009\n",
            "2024-12-27  595.010010  71.750000  241.399994  522.559998  294.070007\n",
            "2024-12-30  588.219971  72.029999  240.630005  515.609985  290.820007\n",
            "\n",
            "[3773 rows x 5 columns]\n"
          ]
        },
        {
          "output_type": "stream",
          "name": "stderr",
          "text": [
            "\n"
          ]
        }
      ]
    },
    {
      "cell_type": "code",
      "source": [
        "# prompt: renove nan value from data frame and put there 0\n",
        "\n",
        "adj_close_df.fillna(0, inplace=True)\n",
        "adj_close_df"
      ],
      "metadata": {
        "colab": {
          "base_uri": "https://localhost:8080/",
          "height": 455
        },
        "id": "9OyZMv52-vKf",
        "outputId": "a47fca10-39ca-4442-fd0d-27c73667c31f"
      },
      "execution_count": 124,
      "outputs": [
        {
          "output_type": "execute_result",
          "data": {
            "text/plain": [
              "                   SPY        BND         GLD         QQQ         VTI\n",
              "Date                                                                 \n",
              "2010-01-04   86.026482  51.246948  109.800003   40.546177   43.747631\n",
              "2010-01-05   86.254173  51.396748  109.699997   40.546177   43.915581\n",
              "2010-01-06   86.314903  51.377171  111.510002   40.301620   43.976639\n",
              "2010-01-07   86.679237  51.338112  110.820000   40.327827   44.159828\n",
              "2010-01-08   86.967728  51.390244  111.370003   40.659752   44.304890\n",
              "...                ...        ...         ...         ...         ...\n",
              "2024-12-23  594.690002  71.747002  240.960007  522.869995  294.000000\n",
              "2024-12-24  601.299988  71.849998  241.440002  529.960022  297.119995\n",
              "2024-12-26  601.340027  71.900002  243.070007  529.599976  297.290009\n",
              "2024-12-27  595.010010  71.750000  241.399994  522.559998  294.070007\n",
              "2024-12-30  588.219971  72.029999  240.630005  515.609985  290.820007\n",
              "\n",
              "[3773 rows x 5 columns]"
            ],
            "text/html": [
              "\n",
              "  <div id=\"df-4fee6927-f321-4886-8979-90cce7b85de8\" class=\"colab-df-container\">\n",
              "    <div>\n",
              "<style scoped>\n",
              "    .dataframe tbody tr th:only-of-type {\n",
              "        vertical-align: middle;\n",
              "    }\n",
              "\n",
              "    .dataframe tbody tr th {\n",
              "        vertical-align: top;\n",
              "    }\n",
              "\n",
              "    .dataframe thead th {\n",
              "        text-align: right;\n",
              "    }\n",
              "</style>\n",
              "<table border=\"1\" class=\"dataframe\">\n",
              "  <thead>\n",
              "    <tr style=\"text-align: right;\">\n",
              "      <th></th>\n",
              "      <th>SPY</th>\n",
              "      <th>BND</th>\n",
              "      <th>GLD</th>\n",
              "      <th>QQQ</th>\n",
              "      <th>VTI</th>\n",
              "    </tr>\n",
              "    <tr>\n",
              "      <th>Date</th>\n",
              "      <th></th>\n",
              "      <th></th>\n",
              "      <th></th>\n",
              "      <th></th>\n",
              "      <th></th>\n",
              "    </tr>\n",
              "  </thead>\n",
              "  <tbody>\n",
              "    <tr>\n",
              "      <th>2010-01-04</th>\n",
              "      <td>86.026482</td>\n",
              "      <td>51.246948</td>\n",
              "      <td>109.800003</td>\n",
              "      <td>40.546177</td>\n",
              "      <td>43.747631</td>\n",
              "    </tr>\n",
              "    <tr>\n",
              "      <th>2010-01-05</th>\n",
              "      <td>86.254173</td>\n",
              "      <td>51.396748</td>\n",
              "      <td>109.699997</td>\n",
              "      <td>40.546177</td>\n",
              "      <td>43.915581</td>\n",
              "    </tr>\n",
              "    <tr>\n",
              "      <th>2010-01-06</th>\n",
              "      <td>86.314903</td>\n",
              "      <td>51.377171</td>\n",
              "      <td>111.510002</td>\n",
              "      <td>40.301620</td>\n",
              "      <td>43.976639</td>\n",
              "    </tr>\n",
              "    <tr>\n",
              "      <th>2010-01-07</th>\n",
              "      <td>86.679237</td>\n",
              "      <td>51.338112</td>\n",
              "      <td>110.820000</td>\n",
              "      <td>40.327827</td>\n",
              "      <td>44.159828</td>\n",
              "    </tr>\n",
              "    <tr>\n",
              "      <th>2010-01-08</th>\n",
              "      <td>86.967728</td>\n",
              "      <td>51.390244</td>\n",
              "      <td>111.370003</td>\n",
              "      <td>40.659752</td>\n",
              "      <td>44.304890</td>\n",
              "    </tr>\n",
              "    <tr>\n",
              "      <th>...</th>\n",
              "      <td>...</td>\n",
              "      <td>...</td>\n",
              "      <td>...</td>\n",
              "      <td>...</td>\n",
              "      <td>...</td>\n",
              "    </tr>\n",
              "    <tr>\n",
              "      <th>2024-12-23</th>\n",
              "      <td>594.690002</td>\n",
              "      <td>71.747002</td>\n",
              "      <td>240.960007</td>\n",
              "      <td>522.869995</td>\n",
              "      <td>294.000000</td>\n",
              "    </tr>\n",
              "    <tr>\n",
              "      <th>2024-12-24</th>\n",
              "      <td>601.299988</td>\n",
              "      <td>71.849998</td>\n",
              "      <td>241.440002</td>\n",
              "      <td>529.960022</td>\n",
              "      <td>297.119995</td>\n",
              "    </tr>\n",
              "    <tr>\n",
              "      <th>2024-12-26</th>\n",
              "      <td>601.340027</td>\n",
              "      <td>71.900002</td>\n",
              "      <td>243.070007</td>\n",
              "      <td>529.599976</td>\n",
              "      <td>297.290009</td>\n",
              "    </tr>\n",
              "    <tr>\n",
              "      <th>2024-12-27</th>\n",
              "      <td>595.010010</td>\n",
              "      <td>71.750000</td>\n",
              "      <td>241.399994</td>\n",
              "      <td>522.559998</td>\n",
              "      <td>294.070007</td>\n",
              "    </tr>\n",
              "    <tr>\n",
              "      <th>2024-12-30</th>\n",
              "      <td>588.219971</td>\n",
              "      <td>72.029999</td>\n",
              "      <td>240.630005</td>\n",
              "      <td>515.609985</td>\n",
              "      <td>290.820007</td>\n",
              "    </tr>\n",
              "  </tbody>\n",
              "</table>\n",
              "<p>3773 rows × 5 columns</p>\n",
              "</div>\n",
              "    <div class=\"colab-df-buttons\">\n",
              "\n",
              "  <div class=\"colab-df-container\">\n",
              "    <button class=\"colab-df-convert\" onclick=\"convertToInteractive('df-4fee6927-f321-4886-8979-90cce7b85de8')\"\n",
              "            title=\"Convert this dataframe to an interactive table.\"\n",
              "            style=\"display:none;\">\n",
              "\n",
              "  <svg xmlns=\"http://www.w3.org/2000/svg\" height=\"24px\" viewBox=\"0 -960 960 960\">\n",
              "    <path d=\"M120-120v-720h720v720H120Zm60-500h600v-160H180v160Zm220 220h160v-160H400v160Zm0 220h160v-160H400v160ZM180-400h160v-160H180v160Zm440 0h160v-160H620v160ZM180-180h160v-160H180v160Zm440 0h160v-160H620v160Z\"/>\n",
              "  </svg>\n",
              "    </button>\n",
              "\n",
              "  <style>\n",
              "    .colab-df-container {\n",
              "      display:flex;\n",
              "      gap: 12px;\n",
              "    }\n",
              "\n",
              "    .colab-df-convert {\n",
              "      background-color: #E8F0FE;\n",
              "      border: none;\n",
              "      border-radius: 50%;\n",
              "      cursor: pointer;\n",
              "      display: none;\n",
              "      fill: #1967D2;\n",
              "      height: 32px;\n",
              "      padding: 0 0 0 0;\n",
              "      width: 32px;\n",
              "    }\n",
              "\n",
              "    .colab-df-convert:hover {\n",
              "      background-color: #E2EBFA;\n",
              "      box-shadow: 0px 1px 2px rgba(60, 64, 67, 0.3), 0px 1px 3px 1px rgba(60, 64, 67, 0.15);\n",
              "      fill: #174EA6;\n",
              "    }\n",
              "\n",
              "    .colab-df-buttons div {\n",
              "      margin-bottom: 4px;\n",
              "    }\n",
              "\n",
              "    [theme=dark] .colab-df-convert {\n",
              "      background-color: #3B4455;\n",
              "      fill: #D2E3FC;\n",
              "    }\n",
              "\n",
              "    [theme=dark] .colab-df-convert:hover {\n",
              "      background-color: #434B5C;\n",
              "      box-shadow: 0px 1px 3px 1px rgba(0, 0, 0, 0.15);\n",
              "      filter: drop-shadow(0px 1px 2px rgba(0, 0, 0, 0.3));\n",
              "      fill: #FFFFFF;\n",
              "    }\n",
              "  </style>\n",
              "\n",
              "    <script>\n",
              "      const buttonEl =\n",
              "        document.querySelector('#df-4fee6927-f321-4886-8979-90cce7b85de8 button.colab-df-convert');\n",
              "      buttonEl.style.display =\n",
              "        google.colab.kernel.accessAllowed ? 'block' : 'none';\n",
              "\n",
              "      async function convertToInteractive(key) {\n",
              "        const element = document.querySelector('#df-4fee6927-f321-4886-8979-90cce7b85de8');\n",
              "        const dataTable =\n",
              "          await google.colab.kernel.invokeFunction('convertToInteractive',\n",
              "                                                    [key], {});\n",
              "        if (!dataTable) return;\n",
              "\n",
              "        const docLinkHtml = 'Like what you see? Visit the ' +\n",
              "          '<a target=\"_blank\" href=https://colab.research.google.com/notebooks/data_table.ipynb>data table notebook</a>'\n",
              "          + ' to learn more about interactive tables.';\n",
              "        element.innerHTML = '';\n",
              "        dataTable['output_type'] = 'display_data';\n",
              "        await google.colab.output.renderOutput(dataTable, element);\n",
              "        const docLink = document.createElement('div');\n",
              "        docLink.innerHTML = docLinkHtml;\n",
              "        element.appendChild(docLink);\n",
              "      }\n",
              "    </script>\n",
              "  </div>\n",
              "\n",
              "\n",
              "<div id=\"df-2c2ee288-523e-424d-b662-6b48afed2efb\">\n",
              "  <button class=\"colab-df-quickchart\" onclick=\"quickchart('df-2c2ee288-523e-424d-b662-6b48afed2efb')\"\n",
              "            title=\"Suggest charts\"\n",
              "            style=\"display:none;\">\n",
              "\n",
              "<svg xmlns=\"http://www.w3.org/2000/svg\" height=\"24px\"viewBox=\"0 0 24 24\"\n",
              "     width=\"24px\">\n",
              "    <g>\n",
              "        <path d=\"M19 3H5c-1.1 0-2 .9-2 2v14c0 1.1.9 2 2 2h14c1.1 0 2-.9 2-2V5c0-1.1-.9-2-2-2zM9 17H7v-7h2v7zm4 0h-2V7h2v10zm4 0h-2v-4h2v4z\"/>\n",
              "    </g>\n",
              "</svg>\n",
              "  </button>\n",
              "\n",
              "<style>\n",
              "  .colab-df-quickchart {\n",
              "      --bg-color: #E8F0FE;\n",
              "      --fill-color: #1967D2;\n",
              "      --hover-bg-color: #E2EBFA;\n",
              "      --hover-fill-color: #174EA6;\n",
              "      --disabled-fill-color: #AAA;\n",
              "      --disabled-bg-color: #DDD;\n",
              "  }\n",
              "\n",
              "  [theme=dark] .colab-df-quickchart {\n",
              "      --bg-color: #3B4455;\n",
              "      --fill-color: #D2E3FC;\n",
              "      --hover-bg-color: #434B5C;\n",
              "      --hover-fill-color: #FFFFFF;\n",
              "      --disabled-bg-color: #3B4455;\n",
              "      --disabled-fill-color: #666;\n",
              "  }\n",
              "\n",
              "  .colab-df-quickchart {\n",
              "    background-color: var(--bg-color);\n",
              "    border: none;\n",
              "    border-radius: 50%;\n",
              "    cursor: pointer;\n",
              "    display: none;\n",
              "    fill: var(--fill-color);\n",
              "    height: 32px;\n",
              "    padding: 0;\n",
              "    width: 32px;\n",
              "  }\n",
              "\n",
              "  .colab-df-quickchart:hover {\n",
              "    background-color: var(--hover-bg-color);\n",
              "    box-shadow: 0 1px 2px rgba(60, 64, 67, 0.3), 0 1px 3px 1px rgba(60, 64, 67, 0.15);\n",
              "    fill: var(--button-hover-fill-color);\n",
              "  }\n",
              "\n",
              "  .colab-df-quickchart-complete:disabled,\n",
              "  .colab-df-quickchart-complete:disabled:hover {\n",
              "    background-color: var(--disabled-bg-color);\n",
              "    fill: var(--disabled-fill-color);\n",
              "    box-shadow: none;\n",
              "  }\n",
              "\n",
              "  .colab-df-spinner {\n",
              "    border: 2px solid var(--fill-color);\n",
              "    border-color: transparent;\n",
              "    border-bottom-color: var(--fill-color);\n",
              "    animation:\n",
              "      spin 1s steps(1) infinite;\n",
              "  }\n",
              "\n",
              "  @keyframes spin {\n",
              "    0% {\n",
              "      border-color: transparent;\n",
              "      border-bottom-color: var(--fill-color);\n",
              "      border-left-color: var(--fill-color);\n",
              "    }\n",
              "    20% {\n",
              "      border-color: transparent;\n",
              "      border-left-color: var(--fill-color);\n",
              "      border-top-color: var(--fill-color);\n",
              "    }\n",
              "    30% {\n",
              "      border-color: transparent;\n",
              "      border-left-color: var(--fill-color);\n",
              "      border-top-color: var(--fill-color);\n",
              "      border-right-color: var(--fill-color);\n",
              "    }\n",
              "    40% {\n",
              "      border-color: transparent;\n",
              "      border-right-color: var(--fill-color);\n",
              "      border-top-color: var(--fill-color);\n",
              "    }\n",
              "    60% {\n",
              "      border-color: transparent;\n",
              "      border-right-color: var(--fill-color);\n",
              "    }\n",
              "    80% {\n",
              "      border-color: transparent;\n",
              "      border-right-color: var(--fill-color);\n",
              "      border-bottom-color: var(--fill-color);\n",
              "    }\n",
              "    90% {\n",
              "      border-color: transparent;\n",
              "      border-bottom-color: var(--fill-color);\n",
              "    }\n",
              "  }\n",
              "</style>\n",
              "\n",
              "  <script>\n",
              "    async function quickchart(key) {\n",
              "      const quickchartButtonEl =\n",
              "        document.querySelector('#' + key + ' button');\n",
              "      quickchartButtonEl.disabled = true;  // To prevent multiple clicks.\n",
              "      quickchartButtonEl.classList.add('colab-df-spinner');\n",
              "      try {\n",
              "        const charts = await google.colab.kernel.invokeFunction(\n",
              "            'suggestCharts', [key], {});\n",
              "      } catch (error) {\n",
              "        console.error('Error during call to suggestCharts:', error);\n",
              "      }\n",
              "      quickchartButtonEl.classList.remove('colab-df-spinner');\n",
              "      quickchartButtonEl.classList.add('colab-df-quickchart-complete');\n",
              "    }\n",
              "    (() => {\n",
              "      let quickchartButtonEl =\n",
              "        document.querySelector('#df-2c2ee288-523e-424d-b662-6b48afed2efb button');\n",
              "      quickchartButtonEl.style.display =\n",
              "        google.colab.kernel.accessAllowed ? 'block' : 'none';\n",
              "    })();\n",
              "  </script>\n",
              "</div>\n",
              "\n",
              "  <div id=\"id_9215f322-3626-45fc-86e6-0dc93fcbcc0f\">\n",
              "    <style>\n",
              "      .colab-df-generate {\n",
              "        background-color: #E8F0FE;\n",
              "        border: none;\n",
              "        border-radius: 50%;\n",
              "        cursor: pointer;\n",
              "        display: none;\n",
              "        fill: #1967D2;\n",
              "        height: 32px;\n",
              "        padding: 0 0 0 0;\n",
              "        width: 32px;\n",
              "      }\n",
              "\n",
              "      .colab-df-generate:hover {\n",
              "        background-color: #E2EBFA;\n",
              "        box-shadow: 0px 1px 2px rgba(60, 64, 67, 0.3), 0px 1px 3px 1px rgba(60, 64, 67, 0.15);\n",
              "        fill: #174EA6;\n",
              "      }\n",
              "\n",
              "      [theme=dark] .colab-df-generate {\n",
              "        background-color: #3B4455;\n",
              "        fill: #D2E3FC;\n",
              "      }\n",
              "\n",
              "      [theme=dark] .colab-df-generate:hover {\n",
              "        background-color: #434B5C;\n",
              "        box-shadow: 0px 1px 3px 1px rgba(0, 0, 0, 0.15);\n",
              "        filter: drop-shadow(0px 1px 2px rgba(0, 0, 0, 0.3));\n",
              "        fill: #FFFFFF;\n",
              "      }\n",
              "    </style>\n",
              "    <button class=\"colab-df-generate\" onclick=\"generateWithVariable('adj_close_df')\"\n",
              "            title=\"Generate code using this dataframe.\"\n",
              "            style=\"display:none;\">\n",
              "\n",
              "  <svg xmlns=\"http://www.w3.org/2000/svg\" height=\"24px\"viewBox=\"0 0 24 24\"\n",
              "       width=\"24px\">\n",
              "    <path d=\"M7,19H8.4L18.45,9,17,7.55,7,17.6ZM5,21V16.75L18.45,3.32a2,2,0,0,1,2.83,0l1.4,1.43a1.91,1.91,0,0,1,.58,1.4,1.91,1.91,0,0,1-.58,1.4L9.25,21ZM18.45,9,17,7.55Zm-12,3A5.31,5.31,0,0,0,4.9,8.1,5.31,5.31,0,0,0,1,6.5,5.31,5.31,0,0,0,4.9,4.9,5.31,5.31,0,0,0,6.5,1,5.31,5.31,0,0,0,8.1,4.9,5.31,5.31,0,0,0,12,6.5,5.46,5.46,0,0,0,6.5,12Z\"/>\n",
              "  </svg>\n",
              "    </button>\n",
              "    <script>\n",
              "      (() => {\n",
              "      const buttonEl =\n",
              "        document.querySelector('#id_9215f322-3626-45fc-86e6-0dc93fcbcc0f button.colab-df-generate');\n",
              "      buttonEl.style.display =\n",
              "        google.colab.kernel.accessAllowed ? 'block' : 'none';\n",
              "\n",
              "      buttonEl.onclick = () => {\n",
              "        google.colab.notebook.generateWithVariable('adj_close_df');\n",
              "      }\n",
              "      })();\n",
              "    </script>\n",
              "  </div>\n",
              "\n",
              "    </div>\n",
              "  </div>\n"
            ],
            "application/vnd.google.colaboratory.intrinsic+json": {
              "type": "dataframe",
              "variable_name": "adj_close_df",
              "summary": "{\n  \"name\": \"adj_close_df\",\n  \"rows\": 3773,\n  \"fields\": [\n    {\n      \"column\": \"Date\",\n      \"properties\": {\n        \"dtype\": \"date\",\n        \"min\": \"2010-01-04 00:00:00\",\n        \"max\": \"2024-12-30 00:00:00\",\n        \"num_unique_values\": 3773,\n        \"samples\": [\n          \"2010-05-18 00:00:00\",\n          \"2024-12-26 00:00:00\",\n          \"2020-07-07 00:00:00\"\n        ],\n        \"semantic_type\": \"\",\n        \"description\": \"\"\n      }\n    },\n    {\n      \"column\": \"SPY\",\n      \"properties\": {\n        \"dtype\": \"number\",\n        \"std\": 132.96215324653693,\n        \"min\": 78.26799011230469,\n        \"max\": 605.7711791992188,\n        \"num_unique_values\": 3691,\n        \"samples\": [\n          87.7205810546875,\n          541.0240478515625,\n          112.11544799804688\n        ],\n        \"semantic_type\": \"\",\n        \"description\": \"\"\n      }\n    },\n    {\n      \"column\": \"BND\",\n      \"properties\": {\n        \"dtype\": \"number\",\n        \"std\": 6.885210539067961,\n        \"min\": 51.2469482421875,\n        \"max\": 79.08013916015625,\n        \"num_unique_values\": 3400,\n        \"samples\": [\n          54.41831588745117,\n          60.68779754638672,\n          69.4365234375\n        ],\n        \"semantic_type\": \"\",\n        \"description\": \"\"\n      }\n    },\n    {\n      \"column\": \"GLD\",\n      \"properties\": {\n        \"dtype\": \"number\",\n        \"std\": 31.430878396894542,\n        \"min\": 100.5,\n        \"max\": 257.5,\n        \"num_unique_values\": 2997,\n        \"samples\": [\n          102.88999938964844,\n          121.81999969482422,\n          117.83999633789062\n        ],\n        \"semantic_type\": \"\",\n        \"description\": \"\"\n      }\n    },\n    {\n      \"column\": \"QQQ\",\n      \"properties\": {\n        \"dtype\": \"number\",\n        \"std\": 128.06901864297325,\n        \"min\": 37.22703170776367,\n        \"max\": 537.3035888671875,\n        \"num_unique_values\": 3680,\n        \"samples\": [\n          89.01092529296875,\n          325.0259704589844,\n          212.3826904296875\n        ],\n        \"semantic_type\": \"\",\n        \"description\": \"\"\n      }\n    },\n    {\n      \"column\": \"VTI\",\n      \"properties\": {\n        \"dtype\": \"number\",\n        \"std\": 65.87504718965377,\n        \"min\": 40.10590362548828,\n        \"max\": 301.4795837402344,\n        \"num_unique_values\": 3654,\n        \"samples\": [\n          92.64713287353516,\n          101.40457153320312,\n          49.81166458129883\n        ],\n        \"semantic_type\": \"\",\n        \"description\": \"\"\n      }\n    }\n  ]\n}"
            }
          },
          "metadata": {},
          "execution_count": 124
        }
      ]
    },
    {
      "cell_type": "code",
      "source": [
        "log_returns=np.log(adj_close_df/adj_close_df.shift(1))\n",
        "log_returns=log_returns.dropna()\n",
        "print(log_returns)"
      ],
      "metadata": {
        "colab": {
          "base_uri": "https://localhost:8080/",
          "height": 0
        },
        "id": "u7EBjPOG0cH3",
        "outputId": "86c2d335-882c-46ee-b1a9-cb02d7e65b45"
      },
      "execution_count": 142,
      "outputs": [
        {
          "output_type": "stream",
          "name": "stdout",
          "text": [
            "                 SPY       BND       GLD       QQQ       VTI\n",
            "Date                                                        \n",
            "2010-01-05  0.002643  0.002919 -0.000911  0.000000  0.003832\n",
            "2010-01-06  0.000704 -0.000381  0.016365 -0.006050  0.001389\n",
            "2010-01-07  0.004212 -0.000761 -0.006207  0.000650  0.004157\n",
            "2010-01-08  0.003323  0.001015  0.004951  0.008197  0.003280\n",
            "2010-01-11  0.001395  0.000380  0.013201 -0.004090  0.001377\n",
            "...              ...       ...       ...       ...       ...\n",
            "2024-12-23  0.005970 -0.003190 -0.004720  0.009696  0.005666\n",
            "2024-12-24  0.011054  0.001435  0.001990  0.013469  0.010556\n",
            "2024-12-26  0.000067  0.000696  0.006728 -0.000680  0.000572\n",
            "2024-12-27 -0.010582 -0.002088 -0.006894 -0.013382 -0.010890\n",
            "2024-12-30 -0.011477  0.003895 -0.003195 -0.013389 -0.011113\n",
            "\n",
            "[3772 rows x 5 columns]\n"
          ]
        }
      ]
    },
    {
      "cell_type": "code",
      "source": [
        "#create an eually weighted portfolio\n",
        "portfolio_value=1000000\n",
        "weights=np.array([1/len(tickers)]*len(tickers))\n",
        "print(weights)"
      ],
      "metadata": {
        "colab": {
          "base_uri": "https://localhost:8080/",
          "height": 0
        },
        "id": "kQcZJUdL0cLS",
        "outputId": "df95f405-797a-47fb-cb44-ede7a8ce368f"
      },
      "execution_count": 143,
      "outputs": [
        {
          "output_type": "stream",
          "name": "stdout",
          "text": [
            "[0.2 0.2 0.2 0.2 0.2]\n"
          ]
        }
      ]
    },
    {
      "cell_type": "code",
      "source": [
        "#calculate the historical portfolo returns\n",
        "historical_returns=(log_returns*weights).sum(axis=1)\n",
        "print(historical_returns)"
      ],
      "metadata": {
        "colab": {
          "base_uri": "https://localhost:8080/",
          "height": 0
        },
        "id": "mnQBo-2n0cOi",
        "outputId": "4b43d512-c028-460f-cb5c-cebae63945e3"
      },
      "execution_count": 131,
      "outputs": [
        {
          "output_type": "stream",
          "name": "stdout",
          "text": [
            "Date\n",
            "2010-01-04    0.000000\n",
            "2010-01-05    0.001697\n",
            "2010-01-06    0.002405\n",
            "2010-01-07    0.000410\n",
            "2010-01-08    0.004153\n",
            "                ...   \n",
            "2024-12-23    0.002684\n",
            "2024-12-24    0.007701\n",
            "2024-12-26    0.001477\n",
            "2024-12-27   -0.008767\n",
            "2024-12-30   -0.007056\n",
            "Length: 3773, dtype: float64\n"
          ]
        }
      ]
    },
    {
      "cell_type": "code",
      "source": [
        "days=5\n",
        "range_returns=historical_returns.rolling(window=days).sum()\n",
        "range_returns=range_returns.dropna()\n",
        "print(range_returns)"
      ],
      "metadata": {
        "colab": {
          "base_uri": "https://localhost:8080/",
          "height": 0
        },
        "id": "40fUhHqE0cRm",
        "outputId": "0168cd7f-fd47-4180-e53d-3b6966086313"
      },
      "execution_count": 132,
      "outputs": [
        {
          "output_type": "stream",
          "name": "stdout",
          "text": [
            "Date\n",
            "2010-01-08    0.008665\n",
            "2010-01-11    0.011118\n",
            "2010-01-12   -0.000514\n",
            "2010-01-13    0.004543\n",
            "2010-01-14    0.006546\n",
            "                ...   \n",
            "2024-12-23   -0.018321\n",
            "2024-12-24   -0.007178\n",
            "2024-12-26    0.019430\n",
            "2024-12-27    0.012170\n",
            "2024-12-30   -0.003962\n",
            "Length: 3769, dtype: float64\n"
          ]
        }
      ]
    },
    {
      "cell_type": "code",
      "source": [
        "#Spicify a confidence interval and calculate the VaR using Historical method\n",
        "confidence_level=0.95\n",
        "var=np.percentile(range_returns,100-(confidence_level*100))*portfolio_value\n",
        "print(var)"
      ],
      "metadata": {
        "colab": {
          "base_uri": "https://localhost:8080/",
          "height": 0
        },
        "id": "Tp6b0IGd0cUp",
        "outputId": "bed21fee-19eb-4332-9094-c428d8e47fa4"
      },
      "execution_count": 138,
      "outputs": [
        {
          "output_type": "stream",
          "name": "stdout",
          "text": [
            "-24218.416411030692\n"
          ]
        }
      ]
    },
    {
      "cell_type": "code",
      "source": [
        "import numpy as np\n",
        "import pandas as pd\n",
        "import matplotlib.pyplot as plt\n",
        "import seaborn as sns\n",
        "import datetime as dt\n",
        "import yfinance as yf\n",
        "from scipy.stats import norm\n",
        "\n",
        "# ... (Your existing code)\n",
        "\n",
        "# Plot the distribution of historical returns\n",
        "plt.figure(figsize=(10, 6))\n",
        "sns.distplot(range_returns, fit=norm, kde=True)  # Use distplot for better visualization\n",
        "plt.title('Distribution of Historical Portfolio Returns')\n",
        "plt.xlabel('Returns')\n",
        "plt.ylabel('Frequency')\n",
        "\n",
        "# Calculate and plot the 99th percentile\n",
        "percentile_99 = np.percentile(range_returns, 99)\n",
        "plt.axvline(x=percentile_99, color='r', linestyle='--', label='99th Percentile')\n",
        "plt.legend()\n",
        "plt.show()"
      ],
      "metadata": {
        "colab": {
          "base_uri": "https://localhost:8080/",
          "height": 755
        },
        "id": "jUWHHVU2HzQN",
        "outputId": "36c2c884-2986-45e0-b5a4-fc82d5d2b351"
      },
      "execution_count": 141,
      "outputs": [
        {
          "output_type": "stream",
          "name": "stderr",
          "text": [
            "<ipython-input-141-706d2355caf1>:13: UserWarning: \n",
            "\n",
            "`distplot` is a deprecated function and will be removed in seaborn v0.14.0.\n",
            "\n",
            "Please adapt your code to use either `displot` (a figure-level function with\n",
            "similar flexibility) or `histplot` (an axes-level function for histograms).\n",
            "\n",
            "For a guide to updating your code to use the new functions, please see\n",
            "https://gist.github.com/mwaskom/de44147ed2974457ad6372750bbe5751\n",
            "\n",
            "  sns.distplot(range_returns, fit=norm, kde=True)  # Use distplot for better visualization\n"
          ]
        },
        {
          "output_type": "display_data",
          "data": {
            "text/plain": [
              "<Figure size 1000x600 with 1 Axes>"
            ],
            "image/png": "[encoded data removed]"
          },
          "metadata": {}
        }
      ]
    },
    {
      "cell_type": "code",
      "source": [
        "#PARAMATRIC METHOD\n"
      ],
      "metadata": {
        "id": "uclMYk5_76g7"
      },
      "execution_count": null,
      "outputs": []
    },
    {
      "cell_type": "code",
      "source": [
        "#create covariance matrix for all the securities\n",
        "convolution_matrix=log_returns.cov()*252\n",
        "print(convolution_matrix)"
      ],
      "metadata": {
        "colab": {
          "base_uri": "https://localhost:8080/",
          "height": 0
        },
        "id": "5eRZ2UjH76ki",
        "outputId": "c9784d9e-71e0-4a8c-c73c-3ffe48462184"
      },
      "execution_count": 144,
      "outputs": [
        {
          "output_type": "stream",
          "name": "stdout",
          "text": [
            "          SPY       BND       GLD       QQQ       VTI\n",
            "SPY  0.029250  0.000031  0.001466  0.032531  0.029866\n",
            "BND  0.000031  0.002354  0.002270  0.000253  0.000081\n",
            "GLD  0.001466  0.002270  0.024127  0.001783  0.001607\n",
            "QQQ  0.032531  0.000253  0.001783  0.041958  0.033226\n",
            "VTI  0.029866  0.000081  0.001607  0.033226  0.030740\n"
          ]
        }
      ]
    },
    {
      "cell_type": "code",
      "source": [
        "portfolio_std_dev=np.sqrt(np.dot(weights.T,np.dot(convolution_matrix,weights)))\n",
        "print(portfolio_std_dev)"
      ],
      "metadata": {
        "colab": {
          "base_uri": "https://localhost:8080/",
          "height": 0
        },
        "id": "4tfS0hEnJjY8",
        "outputId": "e685ca36-798c-48b1-efd2-656cd9d71c1b"
      },
      "execution_count": 145,
      "outputs": [
        {
          "output_type": "stream",
          "name": "stdout",
          "text": [
            "0.11569878170830898\n"
          ]
        }
      ]
    },
    {
      "cell_type": "code",
      "source": [
        "confidence_levels=[0.9,0.95,0.99]\n"
      ],
      "metadata": {
        "id": "7MLNfwl7JjcM"
      },
      "execution_count": 146,
      "outputs": []
    },
    {
      "cell_type": "code",
      "source": [
        "from scipy.stats import norm\n",
        "VaRs=[]\n",
        "for cl in confidence_levels:\n",
        "    VaR=portfolio_value*portfolio_std_dev*norm.ppf(cl)*np.sqrt(days/252)\n",
        "    VaRs.append(VaR)"
      ],
      "metadata": {
        "id": "twk38rJYJjfy"
      },
      "execution_count": 147,
      "outputs": []
    },
    {
      "cell_type": "code",
      "source": [
        "#print VaR results\n"
      ],
      "metadata": {
        "id": "BSRiLTR9Jjiv"
      },
      "execution_count": null,
      "outputs": []
    },
    {
      "cell_type": "code",
      "source": [
        "print(f\"VaR at {confidence_levels[0]*100}% confidence level: ${VaRs[0]:.2f}\")\n",
        "print('-'*40)\n",
        "for cl,var in zip(confidence_levels[1:],VaRs[1:]):\n",
        "    print(f\"VaR at {cl*100}% confidence level: ${var:.2f}\")"
      ],
      "metadata": {
        "colab": {
          "base_uri": "https://localhost:8080/",
          "height": 0
        },
        "id": "phqO_DkzJjlm",
        "outputId": "02e93d4b-44d2-4af4-8697-22f33490d589"
      },
      "execution_count": 151,
      "outputs": [
        {
          "output_type": "stream",
          "name": "stdout",
          "text": [
            "VaR at 90.0% confidence level: $20885.71\n",
            "----------------------------------------\n",
            "VaR at 95.0% confidence level: $26806.52\n",
            "VaR at 99.0% confidence level: $37912.98\n"
          ]
        }
      ]
    },
    {
      "cell_type": "code",
      "source": [
        "print(f'{\"Confidence Level\":<20}{\"Value at Risk:<20\"}')\n",
        "print('_'*40)\n",
        "#print each confidence interval\n",
        "for cl , VaR in zip(confidence_levels,VaRs):\n",
        "    print(f'{cl*100:>6.0f}%:{\":<8\"}${VaR:>10,.2f}')"
      ],
      "metadata": {
        "colab": {
          "base_uri": "https://localhost:8080/",
          "height": 0
        },
        "id": "j2BpaOO9Jjol",
        "outputId": "5be24409-9bf5-482d-941e-e45921a6b1cb"
      },
      "execution_count": 153,
      "outputs": [
        {
          "output_type": "stream",
          "name": "stdout",
          "text": [
            "Confidence Level    Value at Risk:<20\n",
            "________________________________________\n",
            "    90%::<8$ 20,885.71\n",
            "    95%::<8$ 26,806.52\n",
            "    99%::<8$ 37,912.98\n"
          ]
        }
      ]
    },
    {
      "cell_type": "code",
      "source": [
        "# prompt: draw normal distribution of graph set labels title  and legend for all 95 90 and 99th\n",
        "\n",
        "# ... (Your existing code)\n",
        "\n",
        "# Plot the distribution of historical returns\n",
        "plt.figure(figsize=(10, 6))\n",
        "sns.distplot(range_returns, fit=norm, kde=True)  # Use distplot for better visualization\n",
        "plt.title('Distribution of Historical Portfolio Returns')\n",
        "plt.xlabel('Returns')\n",
        "plt.ylabel('Frequency')\n",
        "\n",
        "# Calculate and plot percentiles\n",
        "percentiles = [90, 95, 99]\n",
        "for percentile in percentiles:\n",
        "    value = np.percentile(range_returns, percentile)\n",
        "    plt.axvline(x=value, linestyle='--', label=f'{percentile}th Percentile')\n",
        "\n",
        "plt.legend()\n",
        "plt.show()"
      ],
      "metadata": {
        "colab": {
          "base_uri": "https://localhost:8080/",
          "height": 755
        },
        "id": "HfrM5EU5Jjr8",
        "outputId": "2737522b-bf9a-44b9-ae36-1b93231ebe5c"
      },
      "execution_count": 155,
      "outputs": [
        {
          "output_type": "stream",
          "name": "stderr",
          "text": [
            "<ipython-input-155-44cc8ab845f3>:7: UserWarning: \n",
            "\n",
            "`distplot` is a deprecated function and will be removed in seaborn v0.14.0.\n",
            "\n",
            "Please adapt your code to use either `displot` (a figure-level function with\n",
            "similar flexibility) or `histplot` (an axes-level function for histograms).\n",
            "\n",
            "For a guide to updating your code to use the new functions, please see\n",
            "https://gist.github.com/mwaskom/de44147ed2974457ad6372750bbe5751\n",
            "\n",
            "  sns.distplot(range_returns, fit=norm, kde=True)  # Use distplot for better visualization\n"
          ]
        },
        {
          "output_type": "display_data",
          "data": {
            "text/plain": [
              "<Figure size 1000x600 with 1 Axes>"
            ],
            "image/png": "[encoded data removed]"
          },
          "metadata": {}
        }
      ]
    },
    {
      "cell_type": "code",
      "source": [],
      "metadata": {
        "id": "4QbccKWGOOIM"
      },
      "execution_count": null,
      "outputs": []
    },
    {
      "cell_type": "code",
      "source": [],
      "metadata": {
        "id": "l916_ULlOOhs"
      },
      "execution_count": null,
      "outputs": []
    },
    {
      "cell_type": "code",
      "source": [],
      "metadata": {
        "id": "2McTfoAOOOls"
      },
      "execution_count": null,
      "outputs": []
    },
    {
      "cell_type": "code",
      "source": [],
      "metadata": {
        "id": "2wDjbjTzOOpR"
      },
      "execution_count": null,
      "outputs": []
    },
    {
      "cell_type": "code",
      "source": [],
      "metadata": {
        "id": "SI0UXLrCOOvq"
      },
      "execution_count": null,
      "outputs": []
    },
    {
      "cell_type": "code",
      "source": [],
      "metadata": {
        "id": "Fx4hhIXsOOzL"
      },
      "execution_count": null,
      "outputs": []
    }
  ]
}